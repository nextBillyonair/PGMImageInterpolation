{
 "cells": [
  {
   "cell_type": "code",
   "execution_count": 1,
   "metadata": {},
   "outputs": [],
   "source": [
    "import pandas as pd\n",
    "import numpy as np\n",
    "import cv2\n",
    "import img_utils\n",
    "from tqdm import tqdm"
   ]
  },
  {
   "cell_type": "code",
   "execution_count": 2,
   "metadata": {},
   "outputs": [
    {
     "name": "stderr",
     "output_type": "stream",
     "text": [
      "100%|██████████| 2269/2269 [00:13<00:00, 167.97it/s]\n",
      "100%|██████████| 2269/2269 [00:21<00:00, 103.88it/s]\n",
      "100%|██████████| 2269/2269 [00:15<00:00, 150.77it/s]\n",
      "100%|██████████| 2269/2269 [00:15<00:00, 145.32it/s]\n"
     ]
    }
   ],
   "source": [
    "imgs = img_utils.load_dataset()"
   ]
  },
  {
   "cell_type": "code",
   "execution_count": 5,
   "metadata": {},
   "outputs": [],
   "source": [
    "SIZES = [1,2,4,8,16,32,64]\n",
    "SIZES = [128]"
   ]
  },
  {
   "cell_type": "code",
   "execution_count": 6,
   "metadata": {},
   "outputs": [
    {
     "name": "stderr",
     "output_type": "stream",
     "text": [
      "100%|██████████| 1/1 [18:04<00:00, 1084.11s/it]\n"
     ]
    }
   ],
   "source": [
    "for size in tqdm(SIZES):\n",
    "    columns = ['y'] + [f'X_{i}|{j}|{k}' for i in range(size) for j in range(size) for k in range(3)]\n",
    "    data, labels = img_utils.stack(img_utils.downsize_set(imgs, size))\n",
    "    data = data / 255\n",
    "    data_frame = np.hstack((np.array(labels).reshape(-1, 1), data))\n",
    "    data_frame = pd.DataFrame(data_frame, columns=columns)\n",
    "    data_frame.to_csv(f\"data/resized_data_scaled_{size}.csv\", index=False)"
   ]
  },
  {
   "cell_type": "code",
   "execution_count": null,
   "metadata": {},
   "outputs": [],
   "source": []
  },
  {
   "cell_type": "code",
   "execution_count": 12,
   "metadata": {},
   "outputs": [],
   "source": []
  },
  {
   "cell_type": "code",
   "execution_count": null,
   "metadata": {},
   "outputs": [],
   "source": []
  },
  {
   "cell_type": "code",
   "execution_count": null,
   "metadata": {},
   "outputs": [],
   "source": []
  }
 ],
 "metadata": {
  "kernelspec": {
   "display_name": "Python 3",
   "language": "python",
   "name": "python3"
  },
  "language_info": {
   "codemirror_mode": {
    "name": "ipython",
    "version": 3
   },
   "file_extension": ".py",
   "mimetype": "text/x-python",
   "name": "python",
   "nbconvert_exporter": "python",
   "pygments_lexer": "ipython3",
   "version": "3.7.3"
  }
 },
 "nbformat": 4,
 "nbformat_minor": 2
}
