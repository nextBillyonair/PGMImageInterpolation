{
 "cells": [
  {
   "cell_type": "code",
   "execution_count": 1,
   "metadata": {},
   "outputs": [],
   "source": [
    "import img_utils\n",
    "import naive_bayes\n",
    "import logistic_regression\n",
    "import matplotlib.pyplot as plt\n",
    "from tqdm import tqdm\n",
    "from pprint import pprint\n",
    "import pandas as pd\n",
    "import matplotlib\n",
    "\n",
    "%matplotlib inline\n",
    "\n",
    "# plt.style.use('ggplot')"
   ]
  },
  {
   "cell_type": "code",
   "execution_count": 2,
   "metadata": {},
   "outputs": [
    {
     "name": "stderr",
     "output_type": "stream",
     "text": [
      "100%|██████████| 2269/2269 [00:12<00:00, 186.15it/s]\n",
      "100%|██████████| 2269/2269 [00:11<00:00, 199.72it/s]\n",
      "100%|██████████| 2269/2269 [00:16<00:00, 135.06it/s]\n",
      "100%|██████████| 2269/2269 [00:21<00:00, 105.83it/s]\n"
     ]
    }
   ],
   "source": [
    "# load data\n",
    "data = img_utils.load_dataset()"
   ]
  },
  {
   "cell_type": "code",
   "execution_count": 3,
   "metadata": {},
   "outputs": [],
   "source": [
    "sizes = [1, 2, 4, 8, 16, 32, 64, 128]"
   ]
  },
  {
   "cell_type": "code",
   "execution_count": null,
   "metadata": {},
   "outputs": [],
   "source": [
    "metrics_nb = {label: {'mean':[], 'std':[]} for label in ['fit_time', 'score_time', 'test_score', 'train_score']}\n",
    "\n",
    "for size in sizes:\n",
    "    data_resize = img_utils.downsize_set(data, size)\n",
    "    train, test = img_utils.stack(data_resize)\n",
    "    model = naive_bayes.NaiveBayes()\n",
    "    model.evaluate(train, test)\n",
    "    pprint(model.metrics)\n",
    "    for key in model.metrics:\n",
    "        metrics_nb[key]['mean'].append(model.metrics[key].mean())\n",
    "        metrics_nb[key]['std'].append(model.metrics[key].std())\n"
   ]
  },
  {
   "cell_type": "code",
   "execution_count": null,
   "metadata": {},
   "outputs": [],
   "source": []
  },
  {
   "cell_type": "code",
   "execution_count": null,
   "metadata": {},
   "outputs": [],
   "source": [
    "img_utils.lineplot(sizes, metrics_nb['train_score']['mean'], metrics_nb['train_score']['std'], label=\"Training Accuracy\", title=\"Training Accuracy wrt Downsample Size\")\n",
    "img_utils.lineplot(sizes, metrics_nb['test_score']['mean'], metrics_nb['test_score']['std'], label=\"Test Accuracy\", title=\"Testing Accuracy wrt Downsample Size\")"
   ]
  },
  {
   "cell_type": "code",
   "execution_count": null,
   "metadata": {},
   "outputs": [],
   "source": []
  },
  {
   "cell_type": "code",
   "execution_count": null,
   "metadata": {},
   "outputs": [],
   "source": []
  },
  {
   "cell_type": "code",
   "execution_count": null,
   "metadata": {},
   "outputs": [],
   "source": [
    "metrics_lr = {label: {'mean':[], 'std':[]} for label in ['fit_time', 'score_time', 'test_score', 'train_score']}\n",
    "\n",
    "for size in sizes:\n",
    "    data_resize = img_utils.downsize_set(data, size)\n",
    "    train, test = img_utils.stack(data_resize)\n",
    "    model = logistic_regression.LogisticRegression()\n",
    "    model.evaluate(train, test)\n",
    "    pprint(model.metrics)\n",
    "    for key in model.metrics:\n",
    "        metrics_lr[key]['mean'].append(model.metrics[key].mean())\n",
    "        metrics_lr[key]['std'].append(model.metrics[key].std())"
   ]
  },
  {
   "cell_type": "code",
   "execution_count": null,
   "metadata": {},
   "outputs": [],
   "source": [
    "img_utils.lineplot(sizes, metrics_lr['train_score']['mean'], metrics_lr['train_score']['std'], label=\"Training Accuracy\", title=\"Training Accuracy wrt Downsample Size\")\n",
    "img_utils.lineplot(sizes, metrics_lr['test_score']['mean'], metrics_lr['test_score']['std'], label=\"Test Accuracy\", title=\"Testing Accuracy wrt Downsample Size\")"
   ]
  },
  {
   "cell_type": "code",
   "execution_count": null,
   "metadata": {},
   "outputs": [],
   "source": [
    "\n"
   ]
  },
  {
   "cell_type": "code",
   "execution_count": null,
   "metadata": {},
   "outputs": [],
   "source": [
    "metrics_nb_df = pd.DataFrame.from_dict({f'{label}_{sub_label}': metrics_nb[label][sub_label] for label in metrics_nb for sub_label in metrics_nb[label]})\n",
    "metrics_nb_df = metrics_nb_df.rename({i: 2**i for i in range(9)}, axis='index')\n",
    "# metrics_nb_df.to_csv('nb_data.csv')"
   ]
  },
  {
   "cell_type": "code",
   "execution_count": null,
   "metadata": {},
   "outputs": [],
   "source": [
    "metrics_lr_df = pd.DataFrame.from_dict({f'{label}_{sub_label}': metrics_lr[label][sub_label] for label in metrics_lr for sub_label in metrics_lr[label]})\n",
    "metrics_lr_df = metrics_lr_df.rename({i: 2**i for i in range(9)}, axis='index')\n",
    "# metrics_lr_df.to_csv('lr_data.csv')"
   ]
  },
  {
   "cell_type": "code",
   "execution_count": null,
   "metadata": {},
   "outputs": [],
   "source": []
  },
  {
   "cell_type": "code",
   "execution_count": null,
   "metadata": {},
   "outputs": [],
   "source": [
    "metrics_nb_df[['train_score_mean', 'test_score_mean']].plot()"
   ]
  },
  {
   "cell_type": "code",
   "execution_count": null,
   "metadata": {},
   "outputs": [],
   "source": [
    "metrics_lr_df[['train_score_mean', 'test_score_mean']].plot()"
   ]
  },
  {
   "cell_type": "code",
   "execution_count": null,
   "metadata": {},
   "outputs": [],
   "source": [
    "metrics_lr_df"
   ]
  },
  {
   "cell_type": "code",
   "execution_count": null,
   "metadata": {},
   "outputs": [],
   "source": [
    "metrics_nb_df"
   ]
  },
  {
   "cell_type": "code",
   "execution_count": 5,
   "metadata": {},
   "outputs": [],
   "source": [
    "data_set = img_utils.downsize_set(data, 32)"
   ]
  },
  {
   "cell_type": "code",
   "execution_count": 11,
   "metadata": {},
   "outputs": [],
   "source": [
    "(a, b, c, d), e = img_utils.make_train_test_sets(data_set)"
   ]
  },
  {
   "cell_type": "code",
   "execution_count": 12,
   "metadata": {},
   "outputs": [
    {
     "data": {
      "text/plain": [
       "((8168, 3072), (908, 3072), 8168, 908)"
      ]
     },
     "execution_count": 12,
     "metadata": {},
     "output_type": "execute_result"
    }
   ],
   "source": [
    "a.shape, b.shape, len(c), len(d)"
   ]
  },
  {
   "cell_type": "code",
   "execution_count": 13,
   "metadata": {},
   "outputs": [
    {
     "data": {
      "text/plain": [
       "{0: 'schilderij', 1: 'foto', 2: 'tekening', 3: 'prent'}"
      ]
     },
     "execution_count": 13,
     "metadata": {},
     "output_type": "execute_result"
    }
   ],
   "source": [
    "e"
   ]
  },
  {
   "cell_type": "code",
   "execution_count": null,
   "metadata": {},
   "outputs": [],
   "source": []
  }
 ],
 "metadata": {
  "kernelspec": {
   "display_name": "Python 3",
   "language": "python",
   "name": "python3"
  },
  "language_info": {
   "codemirror_mode": {
    "name": "ipython",
    "version": 3
   },
   "file_extension": ".py",
   "mimetype": "text/x-python",
   "name": "python",
   "nbconvert_exporter": "python",
   "pygments_lexer": "ipython3",
   "version": "3.7.3"
  }
 },
 "nbformat": 4,
 "nbformat_minor": 2
}
