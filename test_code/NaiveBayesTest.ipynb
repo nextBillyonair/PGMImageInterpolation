{
 "cells": [
  {
   "cell_type": "code",
   "execution_count": 1,
   "metadata": {},
   "outputs": [],
   "source": [
    "import cv2\n",
    "import numpy as np\n",
    "import matplotlib.pyplot as plt\n",
    "from sklearn.naive_bayes import MultinomialNB, GaussianNB\n",
    "from sklearn.linear_model import LogisticRegression\n",
    "from sklearn.model_selection import train_test_split\n",
    "from sklearn.preprocessing import minmax_scale\n",
    "\n",
    "%matplotlib inline\n",
    "# NEED HISTOGRAMS"
   ]
  },
  {
   "cell_type": "code",
   "execution_count": 2,
   "metadata": {},
   "outputs": [],
   "source": [
    "def load_img(filename):\n",
    "    return cv2.cvtColor(cv2.imread(filename), cv2.COLOR_BGR2RGB)"
   ]
  },
  {
   "cell_type": "code",
   "execution_count": 3,
   "metadata": {},
   "outputs": [
    {
     "name": "stdout",
     "output_type": "stream",
     "text": [
      "2239822\n",
      "34 45 78\n"
     ]
    }
   ],
   "source": [
    "def rgb_to_int(*, red, green, blue):\n",
    "    rgb = red;\n",
    "    rgb = (rgb << 8) + green\n",
    "    rgb = (rgb << 8) + blue\n",
    "    return rgb\n",
    "    \n",
    "def int_to_rgb(rgb):\n",
    "    red = (rgb >> 16) & 0xFF\n",
    "    green = (rgb >> 8) & 0xFF\n",
    "    blue = rgb & 0xFF\n",
    "    return red, green, blue\n",
    "    \n",
    "idx = rgb_to_int(red=34, green=45, blue=78)\n",
    "r,g,b = int_to_rgb(idx)\n",
    "print(idx)\n",
    "print(r, g, b)"
   ]
  },
  {
   "cell_type": "code",
   "execution_count": 4,
   "metadata": {},
   "outputs": [],
   "source": [
    "training = {'GNB': [], 'MNB':[], 'LR': []}\n",
    "testing = {'GNB': [], 'MNB':[], 'LR': []}"
   ]
  },
  {
   "cell_type": "code",
   "execution_count": 5,
   "metadata": {},
   "outputs": [
    {
     "name": "stdout",
     "output_type": "stream",
     "text": [
      "2269 2269 2269 2269\n",
      "(500, 364, 3)\n",
      "(248, 500, 3)\n",
      "(337, 500, 3)\n",
      "(362, 500, 3)\n"
     ]
    }
   ],
   "source": [
    "paintings = [load_img(f\"../PGMData/imgs/schilderij_{i}.jpg\") for i in range(0, 2269)]\n",
    "photos = [load_img(f\"../PGMData/imgs/foto_{i}.jpg\") for i in range(0, 2269)]\n",
    "drawings = [load_img(f\"../PGMData/imgs/tekening_{i}.jpg\") for i in range(0, 2269)]\n",
    "prints = [load_img(f\"../PGMData/imgs/prent_{i}.jpg\") for i in range(0, 2269)]\n",
    "print(len(paintings), len(photos), len(drawings), len(prints))\n",
    "print(paintings[0].shape)\n",
    "print(photos[0].shape)\n",
    "print(drawings[0].shape)\n",
    "print(prints[0].shape)"
   ]
  },
  {
   "cell_type": "code",
   "execution_count": null,
   "metadata": {},
   "outputs": [],
   "source": [
    "# For constant # of pixels\n",
    "SIZE = 32\n",
    "METHODS = [cv2.INTER_AREA, cv2.INTER_NEAREST, cv2.INTER_LINEAR, cv2.INTER_CUBIC, cv2.INTER_LANCZOS4]\n",
    "INTER_METHOD = METHODS[4]\n",
    "data_paintings = [cv2.resize(img, (SIZE, SIZE), interpolation=INTER_METHOD).reshape(-1) for img in paintings]\n",
    "data_photos = [cv2.resize(img, (SIZE, SIZE), interpolation=INTER_METHOD).reshape(-1) for img in photos]\n",
    "data_drawings = [cv2.resize(img, (SIZE, SIZE), interpolation=INTER_METHOD).reshape(-1) for img in drawings]\n",
    "data_prints = [cv2.resize(img, (SIZE, SIZE), interpolation=INTER_METHOD).reshape(-1) for img in prints]"
   ]
  },
  {
   "cell_type": "code",
   "execution_count": null,
   "metadata": {},
   "outputs": [],
   "source": []
  },
  {
   "cell_type": "code",
   "execution_count": null,
   "metadata": {},
   "outputs": [],
   "source": [
    "# try concat RGB\n",
    "# paintings2 = [cv2.calcHist([img],[0],None,[256],[0,256]).reshape(-1) for img in paintings]\n",
    "# photos2 = [cv2.calcHist([img],[0],None,[256],[0,256]).reshape(-1) for img in photos]\n",
    "# # concat all 3\n",
    "# data_paintings = [np.concatenate([cv2.calcHist([img], [i], None, [256], [0,256]) for i in range(3)]).reshape(-1) for img in paintings]\n",
    "# data_photos = [np.concatenate([cv2.calcHist([img], [i], None, [256], [0,256]) for i in range(3)]).reshape(-1) for img in photos]\n",
    "\n",
    "# raw pixels\n",
    "# data_paintings = [img.reshape(-1) for img in data_paintings]\n",
    "# data_photos = [img.reshape(-1) for img in data_photos]\n",
    "\n",
    "\n",
    "print(data_paintings[0].shape)\n",
    "print(data_photos[0].shape)\n",
    "print(data_drawings[0].shape)\n",
    "print(data_prints[0].shape)"
   ]
  },
  {
   "cell_type": "code",
   "execution_count": null,
   "metadata": {},
   "outputs": [],
   "source": [
    "plt.plot(data_paintings[100])\n",
    "plt.plot(data_photos[100])\n",
    "plt.plot(data_drawings[100])\n",
    "plt.plot(data_prints[100])"
   ]
  },
  {
   "cell_type": "code",
   "execution_count": null,
   "metadata": {},
   "outputs": [],
   "source": []
  },
  {
   "cell_type": "code",
   "execution_count": null,
   "metadata": {},
   "outputs": [],
   "source": []
  },
  {
   "cell_type": "code",
   "execution_count": null,
   "metadata": {},
   "outputs": [],
   "source": [
    "# Guassian NB\n",
    "\n",
    "train = np.stack(tuple(data_paintings + data_photos + data_drawings + data_prints), axis=0)\n",
    "test = [0 for _ in range(len(data_paintings))] + [1 for _ in range(len(data_photos))] + [2 for _ in range(len(data_drawings))] + [3 for _ in range(len(data_prints))]\n",
    "print(train.shape)\n",
    "X_train, X_test, y_train, y_test = train_test_split(train, test, test_size=0.1, random_state=42)\n",
    "print(X_train.shape, len(y_train))\n",
    "print(X_test.shape, len(y_test))"
   ]
  },
  {
   "cell_type": "code",
   "execution_count": null,
   "metadata": {},
   "outputs": [],
   "source": [
    "\n"
   ]
  },
  {
   "cell_type": "code",
   "execution_count": null,
   "metadata": {},
   "outputs": [],
   "source": [
    "GNB = GaussianNB()\n",
    "GNB.fit(X_train, y_train)\n",
    "training['GNB'].append(GNB.score(X_train, y_train))\n",
    "testing['GNB'].append(GNB.score(X_test, y_test))\n",
    "print('Training:', training['GNB'][-1])\n",
    "print('Test:', testing['GNB'][-1])"
   ]
  },
  {
   "cell_type": "code",
   "execution_count": null,
   "metadata": {},
   "outputs": [],
   "source": [
    "plt.plot(GNB.theta_[0])\n",
    "plt.plot(GNB.theta_[1])\n",
    "plt.plot(GNB.theta_[2])\n",
    "plt.plot(GNB.theta_[3])"
   ]
  },
  {
   "cell_type": "code",
   "execution_count": null,
   "metadata": {},
   "outputs": [],
   "source": [
    "# print(GNB.sigma_[0])\n",
    "# print(GNB.sigma_[1])\n",
    "plt.figure(1)\n",
    "plt.subplot(221)\n",
    "plt.imshow(GNB.theta_[0].reshape(SIZE, SIZE, 3).astype(int))\n",
    "plt.title('Paintings')\n",
    "plt.grid(False)\n",
    "\n",
    "plt.subplot(222)\n",
    "plt.imshow(GNB.theta_[1].reshape(SIZE, SIZE, 3).astype(int))\n",
    "plt.title('Photos')\n",
    "plt.grid(False)\n",
    "\n",
    "plt.subplot(223)\n",
    "plt.imshow(GNB.theta_[2].reshape(SIZE, SIZE, 3).astype(int))\n",
    "plt.title('Drawings')\n",
    "plt.grid(False)\n",
    "\n",
    "plt.subplot(224)\n",
    "plt.imshow(GNB.theta_[3].reshape(SIZE, SIZE, 3).astype(int))\n",
    "plt.title('Prints')\n",
    "plt.grid(False)\n",
    "\n",
    "plt.subplots_adjust(top=0.92, bottom=0.08, left=0.10, right=0.95, hspace=0.25,\n",
    "                    wspace=0.35)\n",
    "\n",
    "# plt.plot(GNB.theta_[1])\n",
    "# plt.plot(GNB.theta_[2])\n",
    "# plt.plot(GNB.theta_[3])\n",
    "# print(GNB.theta_[0].reshape(SIZE, SIZE, 3).astype(int))"
   ]
  },
  {
   "cell_type": "code",
   "execution_count": null,
   "metadata": {},
   "outputs": [],
   "source": []
  },
  {
   "cell_type": "code",
   "execution_count": null,
   "metadata": {},
   "outputs": [],
   "source": [
    "MNB = MultinomialNB()\n",
    "MNB.fit(X_train, y_train)\n",
    "training['MNB'].append(MNB.score(X_train, y_train))\n",
    "testing['MNB'].append(MNB.score(X_test, y_test))\n",
    "print('Training:', training['MNB'][-1])\n",
    "print('Test:', testing['MNB'][-1])"
   ]
  },
  {
   "cell_type": "code",
   "execution_count": null,
   "metadata": {},
   "outputs": [],
   "source": []
  },
  {
   "cell_type": "code",
   "execution_count": null,
   "metadata": {},
   "outputs": [],
   "source": [
    "plt.figure(1)\n",
    "plt.subplot(221)\n",
    "tmp = np.exp(MNB.feature_log_prob_[0])\n",
    "tmp = minmax_scale(tmp.reshape(1, -1), axis=1).reshape(SIZE, SIZE, 3)*255\n",
    "plt.imshow(tmp.astype(int))\n",
    "plt.title('Paintings')\n",
    "plt.grid(False)\n",
    "\n",
    "plt.subplot(222)\n",
    "tmp = np.exp(MNB.feature_log_prob_[1])\n",
    "tmp = minmax_scale(tmp.reshape(1, -1), axis=1).reshape(SIZE, SIZE, 3)*255\n",
    "plt.imshow(tmp.astype(int))\n",
    "plt.title('Photos')\n",
    "plt.grid(False)\n",
    "\n",
    "plt.subplot(223)\n",
    "tmp = np.exp(MNB.feature_log_prob_[2])\n",
    "tmp = minmax_scale(tmp.reshape(1, -1), axis=1).reshape(SIZE, SIZE, 3)*255\n",
    "plt.imshow(tmp.astype(int))\n",
    "plt.title('Drawings')\n",
    "plt.grid(False)\n",
    "\n",
    "plt.subplot(224)\n",
    "tmp = np.exp(MNB.feature_log_prob_[3])\n",
    "tmp = minmax_scale(tmp.reshape(1, -1), axis=1).reshape(SIZE, SIZE, 3)*255\n",
    "plt.imshow(tmp.astype(int))\n",
    "plt.title('Prints')\n",
    "plt.grid(False)"
   ]
  },
  {
   "cell_type": "code",
   "execution_count": null,
   "metadata": {},
   "outputs": [],
   "source": []
  },
  {
   "cell_type": "code",
   "execution_count": null,
   "metadata": {},
   "outputs": [],
   "source": [
    "LR = LogisticRegression(solver='lbfgs', max_iter=100, multi_class='auto', fit_intercept=False)\n",
    "LR.fit(X_train, y_train)\n",
    "training['LR'].append(LR.score(X_train, y_train))\n",
    "testing['LR'].append(LR.score(X_test, y_test))\n",
    "print('Training:', training['LR'][-1])\n",
    "print('Test:', testing['LR'][-1])"
   ]
  },
  {
   "cell_type": "code",
   "execution_count": null,
   "metadata": {},
   "outputs": [],
   "source": [
    "# plt.figure(1)\n",
    "# plt.subplot(221)\n",
    "# tmp = LR.coef_[0]\n",
    "# tmp = minmax_scale(tmp.reshape(1, -1), axis=1).reshape(SIZE, SIZE, 3)*255\n",
    "# plt.imshow(tmp.astype(int))\n",
    "# plt.title('Paintings')\n",
    "# plt.grid(False)\n",
    "\n",
    "# plt.subplot(222)\n",
    "# tmp = LR.coef_[1]\n",
    "# tmp = minmax_scale(tmp.reshape(1, -1), axis=1).reshape(SIZE, SIZE, 3)*255\n",
    "# plt.imshow(tmp.astype(int))\n",
    "# plt.title('Photos')\n",
    "# plt.grid(False)\n",
    "\n",
    "# plt.subplot(223)\n",
    "# tmp = LR.coef_[2]\n",
    "# tmp = minmax_scale(tmp.reshape(1, -1), axis=1).reshape(SIZE, SIZE, 3)*255\n",
    "# plt.imshow(tmp.astype(int))\n",
    "# plt.title('Drawings')\n",
    "# plt.grid(False)\n",
    "\n",
    "# plt.subplot(224)\n",
    "# tmp = LR.coef_[3]\n",
    "# tmp = minmax_scale(tmp.reshape(1, -1), axis=1).reshape(SIZE, SIZE, 3)*255\n",
    "# plt.imshow(tmp.astype(int))\n",
    "# plt.title('Prints')\n",
    "# plt.grid(False)\n",
    "coef = LR.coef_.copy()\n",
    "plt.figure(figsize=(50, 25))\n",
    "# scale = np.abs(coef).max()\n",
    "for i in range(4):\n",
    "    l1_plot = plt.subplot(2, 5, i + 1)\n",
    "    tmp_coef_i = coef[i].reshape(SIZE, SIZE, 3)\n",
    "    tmp_coef_i = (tmp_coef_i - tmp_coef_i.min())\n",
    "    tmp_coef_i = tmp_coef_i / tmp_coef_i.max()\n",
    "    l1_plot.imshow(tmp_coef_i, interpolation='nearest',\n",
    "                   cmap=plt.cm.RdBu)#, vmin=-coef.min(), vmax=coef.max())\n",
    "    l1_plot.set_xticks(())\n",
    "    l1_plot.set_yticks(())\n",
    "    l1_plot.set_xlabel('Class %i' % i)\n",
    "plt.suptitle('Classification vector for...')"
   ]
  },
  {
   "cell_type": "code",
   "execution_count": null,
   "metadata": {},
   "outputs": [],
   "source": [
    "# tmp_coef_i"
   ]
  },
  {
   "cell_type": "code",
   "execution_count": null,
   "metadata": {},
   "outputs": [],
   "source": []
  },
  {
   "cell_type": "code",
   "execution_count": null,
   "metadata": {},
   "outputs": [],
   "source": [
    "print(training)"
   ]
  },
  {
   "cell_type": "code",
   "execution_count": null,
   "metadata": {},
   "outputs": [],
   "source": [
    "print(testing)"
   ]
  },
  {
   "cell_type": "code",
   "execution_count": null,
   "metadata": {},
   "outputs": [],
   "source": [
    "plt.scatter([0, 1, 2, 3, 4], training['GNB'])\n",
    "plt.scatter([0, 1, 2, 3, 4], testing['GNB'])"
   ]
  },
  {
   "cell_type": "code",
   "execution_count": null,
   "metadata": {},
   "outputs": [],
   "source": []
  },
  {
   "cell_type": "code",
   "execution_count": null,
   "metadata": {},
   "outputs": [],
   "source": []
  },
  {
   "cell_type": "code",
   "execution_count": 20,
   "metadata": {},
   "outputs": [
    {
     "ename": "ValueError",
     "evalue": "x and y must be the same size",
     "output_type": "error",
     "traceback": [
      "\u001b[0;31m---------------------------------------------------------------------------\u001b[0m",
      "\u001b[0;31mValueError\u001b[0m                                Traceback (most recent call last)",
      "\u001b[0;32m<ipython-input-20-c9fd96c546e0>\u001b[0m in \u001b[0;36m<module>\u001b[0;34m()\u001b[0m\n\u001b[0;32m----> 1\u001b[0;31m \u001b[0mplt\u001b[0m\u001b[0;34m.\u001b[0m\u001b[0mscatter\u001b[0m\u001b[0;34m(\u001b[0m\u001b[0;34m[\u001b[0m\u001b[0;36m128\u001b[0m\u001b[0;34m,\u001b[0m \u001b[0;36m64\u001b[0m\u001b[0;34m,\u001b[0m \u001b[0;36m32\u001b[0m\u001b[0;34m,\u001b[0m \u001b[0;36m16\u001b[0m\u001b[0;34m,\u001b[0m \u001b[0;36m8\u001b[0m\u001b[0;34m,\u001b[0m \u001b[0;36m4\u001b[0m\u001b[0;34m,\u001b[0m \u001b[0;36m2\u001b[0m\u001b[0;34m,\u001b[0m \u001b[0;36m1\u001b[0m\u001b[0;34m]\u001b[0m\u001b[0;34m,\u001b[0m \u001b[0mtraining\u001b[0m\u001b[0;34m[\u001b[0m\u001b[0;34m'GNB'\u001b[0m\u001b[0;34m]\u001b[0m\u001b[0;34m)\u001b[0m\u001b[0;34m\u001b[0m\u001b[0;34m\u001b[0m\u001b[0m\n\u001b[0m\u001b[1;32m      2\u001b[0m \u001b[0mplt\u001b[0m\u001b[0;34m.\u001b[0m\u001b[0mscatter\u001b[0m\u001b[0;34m(\u001b[0m\u001b[0;34m[\u001b[0m\u001b[0;36m128\u001b[0m\u001b[0;34m,\u001b[0m \u001b[0;36m64\u001b[0m\u001b[0;34m,\u001b[0m \u001b[0;36m32\u001b[0m\u001b[0;34m,\u001b[0m \u001b[0;36m16\u001b[0m\u001b[0;34m,\u001b[0m \u001b[0;36m8\u001b[0m\u001b[0;34m,\u001b[0m \u001b[0;36m4\u001b[0m\u001b[0;34m,\u001b[0m \u001b[0;36m2\u001b[0m\u001b[0;34m,\u001b[0m \u001b[0;36m1\u001b[0m\u001b[0;34m]\u001b[0m\u001b[0;34m,\u001b[0m \u001b[0mtesting\u001b[0m\u001b[0;34m[\u001b[0m\u001b[0;34m'GNB'\u001b[0m\u001b[0;34m]\u001b[0m\u001b[0;34m)\u001b[0m\u001b[0;34m\u001b[0m\u001b[0;34m\u001b[0m\u001b[0m\n",
      "\u001b[0;32m/usr/local/lib/python3.7/site-packages/matplotlib/pyplot.py\u001b[0m in \u001b[0;36mscatter\u001b[0;34m(x, y, s, c, marker, cmap, norm, vmin, vmax, alpha, linewidths, verts, edgecolors, data, **kwargs)\u001b[0m\n\u001b[1;32m   2791\u001b[0m         \u001b[0mx\u001b[0m\u001b[0;34m=\u001b[0m\u001b[0mx\u001b[0m\u001b[0;34m,\u001b[0m \u001b[0my\u001b[0m\u001b[0;34m=\u001b[0m\u001b[0my\u001b[0m\u001b[0;34m,\u001b[0m \u001b[0ms\u001b[0m\u001b[0;34m=\u001b[0m\u001b[0ms\u001b[0m\u001b[0;34m,\u001b[0m \u001b[0mc\u001b[0m\u001b[0;34m=\u001b[0m\u001b[0mc\u001b[0m\u001b[0;34m,\u001b[0m \u001b[0mmarker\u001b[0m\u001b[0;34m=\u001b[0m\u001b[0mmarker\u001b[0m\u001b[0;34m,\u001b[0m \u001b[0mcmap\u001b[0m\u001b[0;34m=\u001b[0m\u001b[0mcmap\u001b[0m\u001b[0;34m,\u001b[0m \u001b[0mnorm\u001b[0m\u001b[0;34m=\u001b[0m\u001b[0mnorm\u001b[0m\u001b[0;34m,\u001b[0m\u001b[0;34m\u001b[0m\u001b[0;34m\u001b[0m\u001b[0m\n\u001b[1;32m   2792\u001b[0m         \u001b[0mvmin\u001b[0m\u001b[0;34m=\u001b[0m\u001b[0mvmin\u001b[0m\u001b[0;34m,\u001b[0m \u001b[0mvmax\u001b[0m\u001b[0;34m=\u001b[0m\u001b[0mvmax\u001b[0m\u001b[0;34m,\u001b[0m \u001b[0malpha\u001b[0m\u001b[0;34m=\u001b[0m\u001b[0malpha\u001b[0m\u001b[0;34m,\u001b[0m \u001b[0mlinewidths\u001b[0m\u001b[0;34m=\u001b[0m\u001b[0mlinewidths\u001b[0m\u001b[0;34m,\u001b[0m\u001b[0;34m\u001b[0m\u001b[0;34m\u001b[0m\u001b[0m\n\u001b[0;32m-> 2793\u001b[0;31m         verts=verts, edgecolors=edgecolors, data=data, **kwargs)\n\u001b[0m\u001b[1;32m   2794\u001b[0m     \u001b[0msci\u001b[0m\u001b[0;34m(\u001b[0m\u001b[0m__ret\u001b[0m\u001b[0;34m)\u001b[0m\u001b[0;34m\u001b[0m\u001b[0;34m\u001b[0m\u001b[0m\n\u001b[1;32m   2795\u001b[0m     \u001b[0;32mreturn\u001b[0m \u001b[0m__ret\u001b[0m\u001b[0;34m\u001b[0m\u001b[0;34m\u001b[0m\u001b[0m\n",
      "\u001b[0;32m/usr/local/lib/python3.7/site-packages/matplotlib/__init__.py\u001b[0m in \u001b[0;36minner\u001b[0;34m(ax, data, *args, **kwargs)\u001b[0m\n\u001b[1;32m   1783\u001b[0m                         \u001b[0;34m\"the Matplotlib list!)\"\u001b[0m \u001b[0;34m%\u001b[0m \u001b[0;34m(\u001b[0m\u001b[0mlabel_namer\u001b[0m\u001b[0;34m,\u001b[0m \u001b[0mfunc\u001b[0m\u001b[0;34m.\u001b[0m\u001b[0m__name__\u001b[0m\u001b[0;34m)\u001b[0m\u001b[0;34m,\u001b[0m\u001b[0;34m\u001b[0m\u001b[0;34m\u001b[0m\u001b[0m\n\u001b[1;32m   1784\u001b[0m                         RuntimeWarning, stacklevel=2)\n\u001b[0;32m-> 1785\u001b[0;31m             \u001b[0;32mreturn\u001b[0m \u001b[0mfunc\u001b[0m\u001b[0;34m(\u001b[0m\u001b[0max\u001b[0m\u001b[0;34m,\u001b[0m \u001b[0;34m*\u001b[0m\u001b[0margs\u001b[0m\u001b[0;34m,\u001b[0m \u001b[0;34m**\u001b[0m\u001b[0mkwargs\u001b[0m\u001b[0;34m)\u001b[0m\u001b[0;34m\u001b[0m\u001b[0;34m\u001b[0m\u001b[0m\n\u001b[0m\u001b[1;32m   1786\u001b[0m \u001b[0;34m\u001b[0m\u001b[0m\n\u001b[1;32m   1787\u001b[0m         inner.__doc__ = _add_data_doc(inner.__doc__,\n",
      "\u001b[0;32m/usr/local/lib/python3.7/site-packages/matplotlib/axes/_axes.py\u001b[0m in \u001b[0;36mscatter\u001b[0;34m(self, x, y, s, c, marker, cmap, norm, vmin, vmax, alpha, linewidths, verts, edgecolors, **kwargs)\u001b[0m\n\u001b[1;32m   4163\u001b[0m         \u001b[0my\u001b[0m \u001b[0;34m=\u001b[0m \u001b[0mnp\u001b[0m\u001b[0;34m.\u001b[0m\u001b[0mma\u001b[0m\u001b[0;34m.\u001b[0m\u001b[0mravel\u001b[0m\u001b[0;34m(\u001b[0m\u001b[0my\u001b[0m\u001b[0;34m)\u001b[0m\u001b[0;34m\u001b[0m\u001b[0;34m\u001b[0m\u001b[0m\n\u001b[1;32m   4164\u001b[0m         \u001b[0;32mif\u001b[0m \u001b[0mx\u001b[0m\u001b[0;34m.\u001b[0m\u001b[0msize\u001b[0m \u001b[0;34m!=\u001b[0m \u001b[0my\u001b[0m\u001b[0;34m.\u001b[0m\u001b[0msize\u001b[0m\u001b[0;34m:\u001b[0m\u001b[0;34m\u001b[0m\u001b[0;34m\u001b[0m\u001b[0m\n\u001b[0;32m-> 4165\u001b[0;31m             \u001b[0;32mraise\u001b[0m \u001b[0mValueError\u001b[0m\u001b[0;34m(\u001b[0m\u001b[0;34m\"x and y must be the same size\"\u001b[0m\u001b[0;34m)\u001b[0m\u001b[0;34m\u001b[0m\u001b[0;34m\u001b[0m\u001b[0m\n\u001b[0m\u001b[1;32m   4166\u001b[0m \u001b[0;34m\u001b[0m\u001b[0m\n\u001b[1;32m   4167\u001b[0m         \u001b[0;32mif\u001b[0m \u001b[0ms\u001b[0m \u001b[0;32mis\u001b[0m \u001b[0;32mNone\u001b[0m\u001b[0;34m:\u001b[0m\u001b[0;34m\u001b[0m\u001b[0;34m\u001b[0m\u001b[0m\n",
      "\u001b[0;31mValueError\u001b[0m: x and y must be the same size"
     ]
    },
    {
     "data": {
      "image/png": "[encoded data removed]",
      "text/plain": [
       "<Figure size 432x288 with 1 Axes>"
      ]
     },
     "metadata": {
      "needs_background": "light"
     },
     "output_type": "display_data"
    }
   ],
   "source": [
    "plt.scatter([128, 64, 32, 16, 8, 4, 2, 1], training['GNB'])\n",
    "plt.scatter([128, 64, 32, 16, 8, 4, 2, 1], testing['GNB'])"
   ]
  },
  {
   "cell_type": "code",
   "execution_count": null,
   "metadata": {},
   "outputs": [],
   "source": []
  },
  {
   "cell_type": "code",
   "execution_count": null,
   "metadata": {},
   "outputs": [],
   "source": [
    "plt.scatter([128, 64, 32, 16, 8, 4, 2, 1], training['MNB'])\n",
    "plt.scatter([128, 64, 32, 16, 8, 4, 2, 1], testing['MNB'])"
   ]
  },
  {
   "cell_type": "code",
   "execution_count": null,
   "metadata": {},
   "outputs": [],
   "source": []
  },
  {
   "cell_type": "code",
   "execution_count": null,
   "metadata": {},
   "outputs": [],
   "source": [
    "plt.scatter([128, 64, 32, 16, 8, 4, 2, 1], training['LR'])\n",
    "plt.scatter([128, 64, 32, 16, 8, 4, 2, 1], testing['LR'])"
   ]
  },
  {
   "cell_type": "code",
   "execution_count": null,
   "metadata": {},
   "outputs": [],
   "source": []
  },
  {
   "cell_type": "code",
   "execution_count": null,
   "metadata": {},
   "outputs": [],
   "source": []
  },
  {
   "cell_type": "code",
   "execution_count": null,
   "metadata": {},
   "outputs": [],
   "source": []
  },
  {
   "cell_type": "code",
   "execution_count": null,
   "metadata": {},
   "outputs": [],
   "source": []
  },
  {
   "cell_type": "code",
   "execution_count": null,
   "metadata": {},
   "outputs": [],
   "source": []
  },
  {
   "cell_type": "code",
   "execution_count": null,
   "metadata": {},
   "outputs": [],
   "source": []
  },
  {
   "cell_type": "code",
   "execution_count": null,
   "metadata": {},
   "outputs": [],
   "source": []
  },
  {
   "cell_type": "code",
   "execution_count": null,
   "metadata": {},
   "outputs": [],
   "source": []
  },
  {
   "cell_type": "code",
   "execution_count": null,
   "metadata": {},
   "outputs": [],
   "source": []
  },
  {
   "cell_type": "code",
   "execution_count": null,
   "metadata": {},
   "outputs": [],
   "source": []
  }
 ],
 "metadata": {
  "kernelspec": {
   "display_name": "Python 3",
   "language": "python",
   "name": "python3"
  },
  "language_info": {
   "codemirror_mode": {
    "name": "ipython",
    "version": 3
   },
   "file_extension": ".py",
   "mimetype": "text/x-python",
   "name": "python",
   "nbconvert_exporter": "python",
   "pygments_lexer": "ipython3",
   "version": "3.7.3"
  }
 },
 "nbformat": 4,
 "nbformat_minor": 2
}
