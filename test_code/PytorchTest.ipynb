{
 "cells": [
  {
   "cell_type": "code",
   "execution_count": 49,
   "metadata": {},
   "outputs": [],
   "source": [
    "import cv2\n",
    "import numpy as np\n",
    "import torch\n",
    "import torch.nn as nn\n",
    "import torch.nn.functional as F\n",
    "from sklearn.model_selection import train_test_split\n",
    "import matplotlib.pyplot as plt"
   ]
  },
  {
   "cell_type": "code",
   "execution_count": 50,
   "metadata": {},
   "outputs": [],
   "source": [
    "def load_img(filename):\n",
    "    return cv2.cvtColor(cv2.imread(filename), cv2.COLOR_BGR2RGB)"
   ]
  },
  {
   "cell_type": "code",
   "execution_count": 51,
   "metadata": {},
   "outputs": [
    {
     "name": "stdout",
     "output_type": "stream",
     "text": [
      "2269 2269 2269 2269\n",
      "(500, 364, 3)\n",
      "(248, 500, 3)\n",
      "(337, 500, 3)\n",
      "(362, 500, 3)\n"
     ]
    }
   ],
   "source": [
    "paintings = [load_img(f\"../PGMData/imgs/schilderij_{i}.jpg\") for i in range(0, 2269)]\n",
    "photos = [load_img(f\"../PGMData/imgs/foto_{i}.jpg\") for i in range(0, 2269)]\n",
    "drawings = [load_img(f\"../PGMData/imgs/tekening_{i}.jpg\") for i in range(0, 2269)]\n",
    "prints = [load_img(f\"../PGMData/imgs/prent_{i}.jpg\") for i in range(0, 2269)]\n",
    "print(len(paintings), len(photos), len(drawings), len(prints))\n",
    "print(paintings[0].shape)\n",
    "print(photos[0].shape)\n",
    "print(drawings[0].shape)\n",
    "print(prints[0].shape)"
   ]
  },
  {
   "cell_type": "code",
   "execution_count": 152,
   "metadata": {},
   "outputs": [],
   "source": [
    "# For constant # of pixels\n",
    "SIZE = 128\n",
    "data_paintings = [cv2.resize(img, (SIZE, SIZE), interpolation=cv2.INTER_AREA).reshape(-1) for img in paintings]\n",
    "data_photos = [cv2.resize(img, (SIZE, SIZE), interpolation=cv2.INTER_AREA).reshape(-1) for img in photos]\n",
    "data_drawings = [cv2.resize(img, (SIZE, SIZE), interpolation=cv2.INTER_AREA).reshape(-1) for img in drawings]\n",
    "data_prints = [cv2.resize(img, (SIZE, SIZE), interpolation=cv2.INTER_AREA).reshape(-1) for img in prints]"
   ]
  },
  {
   "cell_type": "code",
   "execution_count": 153,
   "metadata": {},
   "outputs": [
    {
     "name": "stdout",
     "output_type": "stream",
     "text": [
      "(49152,)\n",
      "(49152,)\n",
      "(49152,)\n",
      "(49152,)\n"
     ]
    }
   ],
   "source": [
    "print(data_paintings[0].shape)\n",
    "print(data_photos[0].shape)\n",
    "print(data_drawings[0].shape)\n",
    "print(data_prints[0].shape)"
   ]
  },
  {
   "cell_type": "code",
   "execution_count": 154,
   "metadata": {},
   "outputs": [
    {
     "name": "stdout",
     "output_type": "stream",
     "text": [
      "(9076, 49152) 9076\n",
      "(8168, 49152) 8168\n",
      "(908, 49152) 908\n"
     ]
    }
   ],
   "source": [
    "train = np.stack(tuple(data_paintings + data_photos + data_drawings + data_prints), axis=0)\n",
    "test = [0 for _ in range(len(data_paintings))] + [1 for _ in range(len(data_photos))] + [2 for _ in range(len(data_drawings))] + [3 for _ in range(len(data_prints))]\n",
    "X_train, X_test, y_train, y_test = train_test_split(train, test, test_size=0.1, random_state=42)\n",
    "print(train.shape, len(test))\n",
    "print(X_train.shape, len(y_train))\n",
    "print(X_test.shape, len(y_test))"
   ]
  },
  {
   "cell_type": "code",
   "execution_count": null,
   "metadata": {},
   "outputs": [],
   "source": []
  },
  {
   "cell_type": "code",
   "execution_count": 155,
   "metadata": {},
   "outputs": [],
   "source": [
    "X_train = torch.from_numpy(X_train).float()\n",
    "X_test = torch.from_numpy(X_test).float()\n",
    "y_train = torch.tensor(y_train)\n",
    "y_test = torch.tensor(y_test)"
   ]
  },
  {
   "cell_type": "code",
   "execution_count": 156,
   "metadata": {},
   "outputs": [
    {
     "data": {
      "text/plain": [
       "tensor([0, 1, 1,  ..., 2, 0, 3])"
      ]
     },
     "execution_count": 156,
     "metadata": {},
     "output_type": "execute_result"
    }
   ],
   "source": [
    "y_train"
   ]
  },
  {
   "cell_type": "code",
   "execution_count": 163,
   "metadata": {},
   "outputs": [],
   "source": [
    "class LR(nn.Module):\n",
    "    def __init__(self, input_features, n_classes):\n",
    "        super(LR, self).__init__()\n",
    "        self.linear = nn.Linear(input_features, n_classes)\n",
    "        \n",
    "    def forward(self, x):\n",
    "        return self.linear(x)\n",
    "    \n",
    "    def get_probs(self, x):\n",
    "        out = self.linear(x)\n",
    "        out = F.softmax(out, dim=1)\n",
    "        return out"
   ]
  },
  {
   "cell_type": "code",
   "execution_count": 164,
   "metadata": {},
   "outputs": [
    {
     "name": "stdout",
     "output_type": "stream",
     "text": [
      "tensor([[ 71.,  65.,  52.,  ...,  75.,  69.,  61.],\n",
      "        [170., 153., 107.,  ..., 167., 152., 109.],\n",
      "        [236., 233., 214.,  ..., 237., 236., 218.],\n",
      "        ...,\n",
      "        [236., 230., 215.,  ..., 235., 229., 211.],\n",
      "        [ 58.,  55.,  48.,  ...,  32.,  31.,  29.],\n",
      "        [247., 244., 225.,  ..., 246., 243., 224.]])\n"
     ]
    }
   ],
   "source": [
    "model = LR(X_train.shape[1], 4)\n",
    "print(X_train)"
   ]
  },
  {
   "cell_type": "code",
   "execution_count": null,
   "metadata": {},
   "outputs": [],
   "source": []
  },
  {
   "cell_type": "code",
   "execution_count": 165,
   "metadata": {},
   "outputs": [
    {
     "name": "stdout",
     "output_type": "stream",
     "text": [
      "0 1063232.625\n",
      "50 1714135.875\n",
      "100 2356326.75\n",
      "150 6723216.0\n",
      "200 2229403.75\n",
      "250 745520.4375\n",
      "300 4289069.5\n",
      "350 1082893.875\n",
      "400 1806064.625\n",
      "450 2000958.625\n"
     ]
    }
   ],
   "source": [
    "criterion = torch.nn.CrossEntropyLoss(reduction='sum')\n",
    "optimizer = torch.optim.SGD(model.parameters())\n",
    "for t in range(500):\n",
    "    # Forward pass: Compute predicted y by passing x to the model\n",
    "    y_pred = model(X_train)\n",
    "\n",
    "    # Compute and print loss\n",
    "    loss = criterion(y_pred, y_train)\n",
    "    if t % 50 == 0:\n",
    "        print(t, loss.item())\n",
    "\n",
    "    # Zero gradients, perform a backward pass, and update the weights.\n",
    "    optimizer.zero_grad()\n",
    "    loss.backward()\n",
    "    optimizer.step()"
   ]
  },
  {
   "cell_type": "code",
   "execution_count": 166,
   "metadata": {},
   "outputs": [],
   "source": [
    "y_pred = model.get_probs(X_test)"
   ]
  },
  {
   "cell_type": "code",
   "execution_count": 167,
   "metadata": {},
   "outputs": [
    {
     "name": "stdout",
     "output_type": "stream",
     "text": [
      "Accuracy of the network on the 908 test images: 39.647577092511014 %\n"
     ]
    }
   ],
   "source": [
    "correct = 0\n",
    "total = 0\n",
    "with torch.no_grad():\n",
    "    outputs = model(X_test)\n",
    "    _, predicted = torch.max(outputs.data, 1)\n",
    "    total += y_test.size(0)\n",
    "    correct += (predicted == y_test).sum().item()\n",
    "\n",
    "print(f'Accuracy of the network on the {y_test.size(0)} test images: {100 * correct / total} %')"
   ]
  },
  {
   "cell_type": "code",
   "execution_count": 168,
   "metadata": {
    "scrolled": true
   },
   "outputs": [
    {
     "name": "stdout",
     "output_type": "stream",
     "text": [
      "Accuracy of Paintings :  0 %\n",
      "Accuracy of Photos : 79 %\n",
      "Accuracy of Drawings : 82 %\n",
      "Accuracy of Prints :  0 %\n"
     ]
    }
   ],
   "source": [
    "class_correct = list(0. for i in range(4))\n",
    "class_total = list(0. for i in range(4))\n",
    "with torch.no_grad():\n",
    "    outputs = model(X_test)\n",
    "    _, predicted = torch.max(outputs, 1)\n",
    "    c = (predicted == y_test).squeeze()\n",
    "    for i in range(X_test.size(0)):\n",
    "        label = y_test[i]\n",
    "        class_correct[label] += c[i].item()\n",
    "        class_total[label] += 1\n",
    "        \n",
    "\n",
    "classes = [\"Paintings\", \"Photos\", \"Drawings\", \"Prints\"]\n",
    "for i in range(4):\n",
    "    print('Accuracy of %5s : %2d %%' % (\n",
    "        classes[i], 100 * class_correct[i] / class_total[i]))"
   ]
  },
  {
   "cell_type": "code",
   "execution_count": null,
   "metadata": {},
   "outputs": [],
   "source": []
  },
  {
   "cell_type": "code",
   "execution_count": null,
   "metadata": {},
   "outputs": [],
   "source": []
  },
  {
   "cell_type": "code",
   "execution_count": null,
   "metadata": {},
   "outputs": [],
   "source": []
  },
  {
   "cell_type": "code",
   "execution_count": null,
   "metadata": {},
   "outputs": [],
   "source": []
  }
 ],
 "metadata": {
  "kernelspec": {
   "display_name": "Python 3",
   "language": "python",
   "name": "python3"
  },
  "language_info": {
   "codemirror_mode": {
    "name": "ipython",
    "version": 3
   },
   "file_extension": ".py",
   "mimetype": "text/x-python",
   "name": "python",
   "nbconvert_exporter": "python",
   "pygments_lexer": "ipython3",
   "version": "3.7.3"
  }
 },
 "nbformat": 4,
 "nbformat_minor": 2
}
