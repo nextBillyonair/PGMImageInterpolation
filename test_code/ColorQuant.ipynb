{
 "cells": [
  {
   "cell_type": "code",
   "execution_count": null,
   "metadata": {},
   "outputs": [],
   "source": [
    "import cv2\n",
    "import numpy as np\n",
    "import matplotlib.pyplot as plt\n",
    "from sklearn.cluster import KMeans\n",
    "from sklearn.mixture import GaussianMixture\n",
    "%matplotlib inline\n",
    "plt.style.use('ggplot')"
   ]
  },
  {
   "cell_type": "code",
   "execution_count": null,
   "metadata": {},
   "outputs": [],
   "source": [
    "def count_colors(img):\n",
    "    return len(set([tuple(img[i, j, :]) for i in range(img.shape[0]) for j in range(img.shape[1])]))"
   ]
  },
  {
   "cell_type": "code",
   "execution_count": null,
   "metadata": {},
   "outputs": [],
   "source": [
    "def create_bit_encoding(bits=8):\n",
    "    n_colors = int(2**bits)\n",
    "    step_size = int(256/n_colors)\n",
    "    image = np.zeros((256, 256, 3), np.uint8)\n",
    "    image[:,0:100,:] = (255, 255, 255)\n",
    "    for i in range(0, image.shape[1], step_size):\n",
    "        image[:, i:i+step_size ,:] = (0, i, 0)\n",
    "    return image"
   ]
  },
  {
   "cell_type": "code",
   "execution_count": null,
   "metadata": {},
   "outputs": [],
   "source": [
    "# plt.imshow(create_bit_encoding(bits=8))\n",
    "plt.imshow(create_bit_encoding(bits=5))"
   ]
  },
  {
   "cell_type": "code",
   "execution_count": null,
   "metadata": {},
   "outputs": [],
   "source": [
    "def reduce_color(img, k=8):\n",
    "    Z = img.reshape((-1,3))\n",
    "    Z = np.float32(Z)\n",
    "\n",
    "    # define criteria, number of clusters(K) and apply kmeans()\n",
    "    criteria = (cv2.TERM_CRITERIA_EPS + cv2.TERM_CRITERIA_MAX_ITER, 10, 1.0)\n",
    "    ret,label,center=cv2.kmeans(Z,k,None,criteria,10,cv2.KMEANS_RANDOM_CENTERS)\n",
    "\n",
    "    # Now convert back into uint8, and make original image\n",
    "    center = np.uint8(center)\n",
    "    res = center[label.flatten()]\n",
    "    res2 = res.reshape((img.shape))\n",
    "\n",
    "    return res2\n"
   ]
  },
  {
   "cell_type": "code",
   "execution_count": null,
   "metadata": {},
   "outputs": [],
   "source": [
    "img = cv2.imread('../PGMData/imgs/schilderij_3527.jpg')\n",
    "print(img.shape)\n",
    "img = cv2.cvtColor(img, cv2.COLOR_BGR2RGB)\n",
    "# plt.imshow(img)\n",
    "rimg = reduce_color(img, k=8)\n",
    "# plt.imshow(rimg)\n",
    "plt.imshow(rimg)\n",
    "print(count_colors(img))\n",
    "print(count_colors(rimg))"
   ]
  },
  {
   "cell_type": "code",
   "execution_count": null,
   "metadata": {},
   "outputs": [],
   "source": []
  },
  {
   "cell_type": "code",
   "execution_count": null,
   "metadata": {},
   "outputs": [],
   "source": []
  },
  {
   "cell_type": "code",
   "execution_count": null,
   "metadata": {},
   "outputs": [],
   "source": [
    "def color_quantization(img, k=8):\n",
    "    rows, cols = img.shape[:2]\n",
    "    img = img.reshape(-1, 3)\n",
    "    kmeans = KMeans(n_clusters=k).fit(img)\n",
    "    labels = kmeans.predict(img)\n",
    "    labels = kmeans.cluster_centers_[labels]\n",
    "    return labels.reshape(rows, cols, 3).astype(int)"
   ]
  },
  {
   "cell_type": "code",
   "execution_count": null,
   "metadata": {},
   "outputs": [],
   "source": [
    "img2 = color_quantization(img, k=8)\n",
    "plt.imshow(img2)\n",
    "count_colors(img2)\n",
    "plt.imshow(img)"
   ]
  },
  {
   "cell_type": "code",
   "execution_count": null,
   "metadata": {},
   "outputs": [],
   "source": [
    "def color_quantization_gmm(img, k=8):\n",
    "    rows, cols = img.shape[:2]\n",
    "    img = img.reshape(img.shape[0]*img.shape[1], img.shape[2])\n",
    "    gmm = GaussianMixture(n_components=k).fit(img)\n",
    "    labels = gmm.predict(img)\n",
    "    labels = gmm.means_[labels]\n",
    "    return labels.reshape(rows, cols, 3).astype(int)"
   ]
  },
  {
   "cell_type": "code",
   "execution_count": null,
   "metadata": {},
   "outputs": [],
   "source": [
    "img2 = color_quantization_gmm(img, k=8)\n",
    "plt.imshow(img2)"
   ]
  },
  {
   "cell_type": "code",
   "execution_count": null,
   "metadata": {},
   "outputs": [],
   "source": [
    "plt.imshow(img)"
   ]
  },
  {
   "cell_type": "code",
   "execution_count": null,
   "metadata": {},
   "outputs": [],
   "source": [
    "# from mpl_toolkits.mplot3d import Axes3D\n",
    "# tmp = img.reshape(img.shape[0]*img.shape[1], img.shape[2])\n",
    "\n",
    "# fig = plt.figure()\n",
    "# fig.set_figheight(16)\n",
    "# fig.set_figwidth(16)\n",
    "# ax = fig.add_subplot( 111,  aspect = \"equal\", projection=\"3d\")\n",
    "# ax.scatter(tmp[:, 0], tmp[:, 1], tmp[:, 2])"
   ]
  },
  {
   "cell_type": "code",
   "execution_count": null,
   "metadata": {},
   "outputs": [],
   "source": [
    "print(img.shape)"
   ]
  },
  {
   "cell_type": "code",
   "execution_count": null,
   "metadata": {},
   "outputs": [],
   "source": [
    "from ColorQuantization import ColorQuantization"
   ]
  },
  {
   "cell_type": "code",
   "execution_count": null,
   "metadata": {},
   "outputs": [],
   "source": [
    "cq = ColorQuantization(n_colors=8)"
   ]
  },
  {
   "cell_type": "code",
   "execution_count": null,
   "metadata": {},
   "outputs": [],
   "source": [
    "cq._reshape([img]).shape"
   ]
  },
  {
   "cell_type": "code",
   "execution_count": null,
   "metadata": {},
   "outputs": [],
   "source": [
    "cq.fit([img])"
   ]
  },
  {
   "cell_type": "code",
   "execution_count": null,
   "metadata": {},
   "outputs": [],
   "source": [
    "new_img = cq.colorize([img])[0]\n",
    "cq.plot_pixels(img, title=\"8 Colors\")"
   ]
  },
  {
   "cell_type": "code",
   "execution_count": null,
   "metadata": {},
   "outputs": [],
   "source": []
  },
  {
   "cell_type": "code",
   "execution_count": null,
   "metadata": {},
   "outputs": [],
   "source": [
    "import matplotlib"
   ]
  },
  {
   "cell_type": "code",
   "execution_count": null,
   "metadata": {},
   "outputs": [],
   "source": [
    "def plot_pixels(data, title, colors=None, N=10000):\n",
    "    if len(data.shape) == 3:\n",
    "        data = data.reshape(-1, 3) / 255\n",
    "    if colors is not None and len(colors.shape) == 3:\n",
    "        colors = colors.reshape(-1, 3) / 255\n",
    "    \n",
    "    i = np.random.permutation(data.shape[0])[:N]\n",
    "    data = data[i]\n",
    "    R = data[:, 0]\n",
    "    G = data[:, 1]\n",
    "    B = data[:, 2]\n",
    "    \n",
    "\n",
    "    c_rng = range(N)\n",
    "    \n",
    "    if colors is None:\n",
    "        colors = [tuple(data[j]) for j in range(data.shape[0])]\n",
    "    else:\n",
    "        colors = colors[i]\n",
    "    cmap = matplotlib.colors.ListedColormap(colors)\n",
    "    \n",
    "    fig, ax = plt.subplots(1, 2, figsize=(16, 6))\n",
    "    ax[0].scatter(R, G, c=c_rng, cmap=cmap, marker='.')\n",
    "    ax[0].set(xlabel='Red', ylabel='Green', xlim=(0, 1), ylim=(0, 1))\n",
    "\n",
    "    ax[1].scatter(R, B, c=c_rng, cmap=cmap, marker='.')\n",
    "    ax[1].set(xlabel='Red', ylabel='Blue', xlim=(0, 1), ylim=(0, 1))\n",
    "\n",
    "    fig.suptitle(title, size=20);"
   ]
  },
  {
   "cell_type": "code",
   "execution_count": null,
   "metadata": {},
   "outputs": [],
   "source": [
    "img = cv2.cvtColor(cv2.imread('china.png'), cv2.COLOR_BGR2RGB)\n",
    "plot_pixels(img, title=f\"Input color space: {count_colors(img)} unique colors\")"
   ]
  },
  {
   "cell_type": "code",
   "execution_count": null,
   "metadata": {},
   "outputs": [],
   "source": [
    "def plot_img(img, recolored_img):\n",
    "    fig, ax = plt.subplots(2, 1, figsize=(8, 8),\n",
    "                           subplot_kw=dict(xticks=[], yticks=[]))\n",
    "    fig.subplots_adjust(wspace=0.05)\n",
    "    ax[0].imshow(img)\n",
    "    ax[0].set_title('Original Image', size=16)\n",
    "    ax[1].imshow(recolored_img)\n",
    "    ax[1].set_title(f'{8}-color Image', size=16);\n",
    "\n",
    "cq = ColorQuantization(n_colors=8)\n",
    "cq.fit([img])\n",
    "recolor = cq.colorize([img])[0]\n",
    "print(count_colors(img), count_colors(recolor))\n"
   ]
  },
  {
   "cell_type": "code",
   "execution_count": null,
   "metadata": {},
   "outputs": [],
   "source": [
    "plot_img(img, recolor)\n"
   ]
  },
  {
   "cell_type": "code",
   "execution_count": null,
   "metadata": {},
   "outputs": [],
   "source": [
    "plot_pixels(img, title=\"Reduced color space: 8 colors\", colors=recolor)"
   ]
  },
  {
   "cell_type": "code",
   "execution_count": null,
   "metadata": {},
   "outputs": [],
   "source": []
  },
  {
   "cell_type": "code",
   "execution_count": null,
   "metadata": {},
   "outputs": [],
   "source": []
  },
  {
   "cell_type": "code",
   "execution_count": null,
   "metadata": {},
   "outputs": [],
   "source": []
  }
 ],
 "metadata": {
  "kernelspec": {
   "display_name": "Python 3",
   "language": "python",
   "name": "python3"
  },
  "language_info": {
   "codemirror_mode": {
    "name": "ipython",
    "version": 3
   },
   "file_extension": ".py",
   "mimetype": "text/x-python",
   "name": "python",
   "nbconvert_exporter": "python",
   "pygments_lexer": "ipython3",
   "version": "3.7.3"
  }
 },
 "nbformat": 4,
 "nbformat_minor": 2
}
